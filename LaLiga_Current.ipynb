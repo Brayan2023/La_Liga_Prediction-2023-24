{
 "cells": [
  {
   "cell_type": "code",
   "execution_count": 1,
   "id": "8d5f3199-fb8d-4ccd-b6b8-4d9100cd201f",
   "metadata": {},
   "outputs": [],
   "source": [
    "import requests"
   ]
  },
  {
   "cell_type": "code",
   "execution_count": 2,
   "id": "e0e59c22-e65a-4da5-8df3-9ccd5f430c9c",
   "metadata": {},
   "outputs": [],
   "source": [
    "standings_url =  \"https://fbref.com/en/comps/12/La-Liga-Stats\""
   ]
  },
  {
   "cell_type": "code",
   "execution_count": 3,
   "id": "4bebd42e-a81d-42a3-ba1f-4ec9ee416c5a",
   "metadata": {},
   "outputs": [],
   "source": [
    "data = requests.get(standings_url)"
   ]
  },
  {
   "cell_type": "code",
   "execution_count": 4,
   "id": "c06e92c1-d643-4116-99db-1e5ad92ede01",
   "metadata": {},
   "outputs": [],
   "source": [
    "from bs4 import BeautifulSoup"
   ]
  },
  {
   "cell_type": "code",
   "execution_count": 5,
   "id": "048c5b16-e7ac-408d-b194-b1fc7c92358b",
   "metadata": {},
   "outputs": [],
   "source": [
    "soup = BeautifulSoup(data.text)"
   ]
  },
  {
   "cell_type": "code",
   "execution_count": 6,
   "id": "111af5d1-34a6-4e00-82d7-ffe3e986d337",
   "metadata": {},
   "outputs": [],
   "source": [
    "standings_table = soup.select('table.stats_table')[0]"
   ]
  },
  {
   "cell_type": "code",
   "execution_count": 7,
   "id": "05f7e77d-ace4-4069-ae9d-2b8996439718",
   "metadata": {},
   "outputs": [],
   "source": [
    "import pandas as pd\n",
    "season = pd.read_html(data.text, match = \"Regular season\")"
   ]
  },
  {
   "cell_type": "code",
   "execution_count": 8,
   "id": "d94f1510-1841-4981-8a7a-1e6e79834a5e",
   "metadata": {},
   "outputs": [],
   "source": [
    "season_df = season[0]"
   ]
  },
  {
   "cell_type": "code",
   "execution_count": 9,
   "id": "075b87ef-0541-44dc-98be-13dcd0509c2f",
   "metadata": {},
   "outputs": [],
   "source": [
    "season_df.rename(columns={'Squad': 'Team'}, inplace=True)"
   ]
  },
  {
   "cell_type": "code",
   "execution_count": 10,
   "id": "2280ec4d-bbe6-4749-ae02-718323e4fbd2",
   "metadata": {},
   "outputs": [],
   "source": [
    "season_df.columns = [c.lower() for c in season_df.columns]"
   ]
  },
  {
   "cell_type": "code",
   "execution_count": 11,
   "id": "819e7740-3806-42ef-bfa7-7ab901adc27c",
   "metadata": {},
   "outputs": [],
   "source": [
    "season_df.to_csv(\"laliga_CurrentRank.csv\")"
   ]
  },
  {
   "cell_type": "code",
   "execution_count": null,
   "id": "1b89a8d3-820b-4d10-9171-0704f8d3913a",
   "metadata": {},
   "outputs": [],
   "source": []
  }
 ],
 "metadata": {
  "kernelspec": {
   "display_name": "Python 3",
   "language": "python",
   "name": "python3"
  },
  "language_info": {
   "codemirror_mode": {
    "name": "ipython",
    "version": 3
   },
   "file_extension": ".py",
   "mimetype": "text/x-python",
   "name": "python",
   "nbconvert_exporter": "python",
   "pygments_lexer": "ipython3",
   "version": "3.8.8"
  }
 },
 "nbformat": 4,
 "nbformat_minor": 5
}
