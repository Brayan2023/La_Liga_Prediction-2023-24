{
 "cells": [
  {
   "cell_type": "code",
   "execution_count": 1,
   "id": "6107cd7a-09a3-4a16-83bf-18288fe33372",
   "metadata": {},
   "outputs": [],
   "source": [
    "import requests"
   ]
  },
  {
   "cell_type": "code",
   "execution_count": 2,
   "id": "c50ab96a-f7fe-4a63-b671-dcbd1869e485",
   "metadata": {},
   "outputs": [],
   "source": [
    "standings_url =  \"https://fbref.com/en/comps/12/La-Liga-Stats\""
   ]
  },
  {
   "cell_type": "code",
   "execution_count": 3,
   "id": "88a44b18-f24e-4da6-923c-95a6409bca62",
   "metadata": {},
   "outputs": [],
   "source": [
    "data = requests.get(standings_url)"
   ]
  },
  {
   "cell_type": "code",
   "execution_count": 4,
   "id": "4bcca31d-bb3a-4672-b3f4-3eba72e6b00c",
   "metadata": {},
   "outputs": [],
   "source": [
    "from bs4 import BeautifulSoup"
   ]
  },
  {
   "cell_type": "code",
   "execution_count": 5,
   "id": "363689e1-fa5b-4d28-b01a-ef773b3943ee",
   "metadata": {},
   "outputs": [],
   "source": [
    "soup = BeautifulSoup(data.text)"
   ]
  },
  {
   "cell_type": "code",
   "execution_count": 6,
   "id": "a528a7de-f7f7-49ab-bcc8-c0865af5ab67",
   "metadata": {},
   "outputs": [],
   "source": [
    "standings_table = soup.select('table.stats_table')[0]"
   ]
  },
  {
   "cell_type": "code",
   "execution_count": 7,
   "id": "0546adab-94f7-4e7d-98e9-77b670909a37",
   "metadata": {},
   "outputs": [],
   "source": [
    "links = standings_table.find_all('a')"
   ]
  },
  {
   "cell_type": "code",
   "execution_count": 8,
   "id": "3e4363ec-e660-418d-9272-bfcf10dedac8",
   "metadata": {},
   "outputs": [],
   "source": [
    "links = [l.get('href') for l in links]"
   ]
  },
  {
   "cell_type": "code",
   "execution_count": 9,
   "id": "5bf9235d-a2aa-4c47-8e79-bf0a848f6c97",
   "metadata": {},
   "outputs": [],
   "source": [
    "links = [l for l in links if '/squads/' in l]"
   ]
  },
  {
   "cell_type": "code",
   "execution_count": 10,
   "id": "7d724590-663e-4fc3-b59e-617260e7efcc",
   "metadata": {},
   "outputs": [],
   "source": [
    "team_urls = [f\"https://fbref.com{l}\" for l in links]"
   ]
  },
  {
   "cell_type": "code",
   "execution_count": 11,
   "id": "55f96f96-8ccb-4cef-9598-d2669da55ce0",
   "metadata": {},
   "outputs": [],
   "source": [
    "team_url = team_urls[0]"
   ]
  },
  {
   "cell_type": "code",
   "execution_count": 12,
   "id": "c8432c3a-6962-4f65-beee-2b16733b4e21",
   "metadata": {},
   "outputs": [],
   "source": [
    "data = requests.get(team_url)"
   ]
  },
  {
   "cell_type": "code",
   "execution_count": 13,
   "id": "fea8ba68-bd5f-408f-8b5c-d3bb41fffe18",
   "metadata": {},
   "outputs": [],
   "source": [
    "import pandas as pd\n",
    "matches = pd.read_html(data.text, match = \"Scores & Fixtures\")"
   ]
  },
  {
   "cell_type": "code",
   "execution_count": 14,
   "id": "e095aa96-bccc-4f16-9934-6f67508c8155",
   "metadata": {},
   "outputs": [],
   "source": [
    "soup = BeautifulSoup(data.text)"
   ]
  },
  {
   "cell_type": "code",
   "execution_count": 15,
   "id": "b0af721e-6c39-46c4-9c06-1ecdc68a2cd6",
   "metadata": {},
   "outputs": [],
   "source": [
    "links = soup.find_all('a')"
   ]
  },
  {
   "cell_type": "code",
   "execution_count": 16,
   "id": "86290c29-35b6-4f5c-8fd5-63bc73ae699b",
   "metadata": {},
   "outputs": [],
   "source": [
    "links = [l.get(\"href\") for l in links]"
   ]
  },
  {
   "cell_type": "code",
   "execution_count": 17,
   "id": "e34357dd-95cd-4d14-a704-b0f2a3688ffa",
   "metadata": {},
   "outputs": [],
   "source": [
    "links = [l for l in links if l and 'all_comps/shooting/' in l]"
   ]
  },
  {
   "cell_type": "code",
   "execution_count": 18,
   "id": "99dab22b-e83d-4e3a-bb68-0a86f8e2dbfe",
   "metadata": {},
   "outputs": [],
   "source": [
    "data = requests.get(f\"https://fbref.com{links[0]}\")"
   ]
  },
  {
   "cell_type": "code",
   "execution_count": 19,
   "id": "2ebaacd0-7579-4f9c-921f-778fad0e8c68",
   "metadata": {},
   "outputs": [],
   "source": [
    "shooting = pd.read_html(data.text, match = \"Shooting\")[0]"
   ]
  },
  {
   "cell_type": "code",
   "execution_count": 20,
   "id": "31087965-2904-42a7-a468-9ec7795a8e43",
   "metadata": {},
   "outputs": [],
   "source": [
    "shooting.columns = shooting.columns.droplevel()"
   ]
  },
  {
   "cell_type": "code",
   "execution_count": 21,
   "id": "8ad6c0e2-bcfd-44de-96f1-03536f515e1f",
   "metadata": {},
   "outputs": [],
   "source": [
    "team_data = matches[0].merge(shooting[[\"Date\", \"Sh\", \"SoT\", \"Dist\", \"FK\", \"PK\", \"PKatt\"]], on = \"Date\")"
   ]
  },
  {
   "cell_type": "code",
   "execution_count": 22,
   "id": "0df8e27a-9e54-4f57-99fa-d7aa8e0ad479",
   "metadata": {},
   "outputs": [],
   "source": [
    "years = list(range(2023,2020,-1))"
   ]
  },
  {
   "cell_type": "code",
   "execution_count": 23,
   "id": "cd2a5815-6eed-430b-9550-6b052bdd8b26",
   "metadata": {},
   "outputs": [
    {
     "data": {
      "text/plain": [
       "[2023, 2022, 2021]"
      ]
     },
     "execution_count": 23,
     "metadata": {},
     "output_type": "execute_result"
    }
   ],
   "source": [
    "years"
   ]
  },
  {
   "cell_type": "code",
   "execution_count": 24,
   "id": "4815d73b-8f12-4e4c-a003-399f43ba2c8b",
   "metadata": {},
   "outputs": [],
   "source": [
    "all_matches = []"
   ]
  },
  {
   "cell_type": "code",
   "execution_count": 25,
   "id": "8418adb0-e449-4459-8e66-edb06acb968d",
   "metadata": {},
   "outputs": [],
   "source": [
    "standings_url =  \"https://fbref.com/en/comps/12/La-Liga-Stats\""
   ]
  },
  {
   "cell_type": "code",
   "execution_count": 26,
   "id": "87e10b2c-b3cd-46cf-bea1-429982b1224a",
   "metadata": {},
   "outputs": [],
   "source": [
    "import time\n",
    "for year in years:\n",
    "  data = requests.get(standings_url)\n",
    "  soup = BeautifulSoup(data.text)\n",
    "  standings_table = soup.select('table.stats_table')[0]\n",
    "\n",
    "  links = [l.get(\"href\") for l in standings_table.find_all('a')]\n",
    "  links = [l for l in links if '/squads/' in l]\n",
    "  team_urls = [f\"https://fbref.com{l}\" for l in links]\n",
    "\n",
    "  previous_season = soup.select(\"a.prev\")[0].get(\"href\")\n",
    "  standings_url = f\"https://fbref.com{previous_season}\"\n",
    "\n",
    "  for team_url in team_urls:\n",
    "    team_name = team_url.split(\"/\")[-1].replace(\"-Stats\", \"\").replace(\"-\", \" \")\n",
    "\n",
    "    data = requests.get(team_url)\n",
    "    matches = pd.read_html(data.text, match = \"Scores & Fixtures\")[0]\n",
    "\n",
    "    soup = BeautifulSoup(data.text)\n",
    "    links = [l.get(\"href\") for l in soup.find_all('a')]\n",
    "    links = [l for l in links if l and 'all_comps/shooting/' in l]\n",
    "    data = requests.get(f\"https://fbref.com{links[0]}\")\n",
    "    shooting = pd.read_html(data.text, match = \"Shooting\")[0]\n",
    "    shooting.columns = shooting.columns.droplevel()\n",
    "\n",
    "    try:\n",
    "      team_data = matches.merge(shooting[[\"Date\", \"Sh\", \"SoT\", \"Dist\", \"FK\", \"PK\", \"PKatt\"]], on = \"Date\")\n",
    "    except ValueError:\n",
    "        continue\n",
    "\n",
    "    team_data = team_data[team_data[\"Comp\"] == \"La Liga\"]\n",
    "    team_data[\"Season\"] = year\n",
    "    team_data[\"Team\"] = team_name\n",
    "    all_matches.append(team_data)\n",
    "    time.sleep(5)"
   ]
  },
  {
   "cell_type": "code",
   "execution_count": 27,
   "id": "3d7a3576-64e9-4cce-9819-2f4830d94272",
   "metadata": {},
   "outputs": [],
   "source": [
    "match_df = pd.concat(all_matches)"
   ]
  },
  {
   "cell_type": "code",
   "execution_count": 28,
   "id": "4821b5f8-16a7-4b0c-895c-f1c93a57ed54",
   "metadata": {},
   "outputs": [],
   "source": [
    "match_df.columns = [c.lower() for c in match_df.columns]"
   ]
  },
  {
   "cell_type": "code",
   "execution_count": 29,
   "id": "3f224587-0926-4870-8845-a9a8e772071b",
   "metadata": {},
   "outputs": [],
   "source": [
    "match_df.to_csv(\"matches_laliga.csv\")"
   ]
  },
  {
   "cell_type": "code",
   "execution_count": 31,
   "id": "1fbe8123-9675-407a-b1d9-55f9c27f42ca",
   "metadata": {},
   "outputs": [
    {
     "data": {
      "text/plain": [
       "Index(['date', 'time', 'comp', 'round', 'day', 'venue', 'result', 'gf', 'ga',\n",
       "       'opponent', 'xg', 'xga', 'poss', 'attendance', 'captain', 'formation',\n",
       "       'referee', 'match report', 'notes', 'sh', 'sot', 'dist', 'fk', 'pk',\n",
       "       'pkatt', 'season', 'team'],\n",
       "      dtype='object')"
      ]
     },
     "execution_count": 31,
     "metadata": {},
     "output_type": "execute_result"
    }
   ],
   "source": [
    "match_df.columns"
   ]
  },
  {
   "cell_type": "code",
   "execution_count": null,
   "id": "3c5e9dce-8678-4fc5-83bc-b217229c7028",
   "metadata": {},
   "outputs": [],
   "source": []
  }
 ],
 "metadata": {
  "kernelspec": {
   "display_name": "Python 3",
   "language": "python",
   "name": "python3"
  },
  "language_info": {
   "codemirror_mode": {
    "name": "ipython",
    "version": 3
   },
   "file_extension": ".py",
   "mimetype": "text/x-python",
   "name": "python",
   "nbconvert_exporter": "python",
   "pygments_lexer": "ipython3",
   "version": "3.8.8"
  }
 },
 "nbformat": 4,
 "nbformat_minor": 5
}
