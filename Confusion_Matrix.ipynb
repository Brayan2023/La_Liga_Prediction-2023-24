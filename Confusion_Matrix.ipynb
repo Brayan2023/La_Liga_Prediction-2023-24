{
 "cells": [
  {
   "cell_type": "code",
   "execution_count": 6,
   "id": "3ada2509-9f41-4fe9-a97d-688d279056a3",
   "metadata": {},
   "outputs": [
    {
     "name": "stdout",
     "output_type": "stream",
     "text": [
      "Cross-validation scores: [0.43352601 0.43023256 0.43604651 0.51162791 0.43023256 0.44767442\n",
      " 0.47674419 0.49418605 0.44767442 0.44767442]\n",
      "Mean cross-validation score: 0.4555619034816508\n"
     ]
    },
    {
     "data": {
      "image/png": "[encoded data removed]",
      "text/plain": [
       "<Figure size 576x432 with 2 Axes>"
      ]
     },
     "metadata": {
      "needs_background": "light"
     },
     "output_type": "display_data"
    }
   ],
   "source": [
    "import pandas as pd\n",
    "from sklearn.ensemble import RandomForestClassifier\n",
    "from sklearn.model_selection import cross_val_score, train_test_split\n",
    "from sklearn.preprocessing import LabelEncoder\n",
    "from sklearn.metrics import confusion_matrix\n",
    "import seaborn as sns\n",
    "import matplotlib.pyplot as plt\n",
    "\n",
    "# Load the data\n",
    "matches = pd.read_csv('matches_laliga.csv')\n",
    "\n",
    "# Convert 'date' to datetime\n",
    "matches['date'] = pd.to_datetime(matches['date'])\n",
    "\n",
    "# Encoding categorical variables\n",
    "encoder = LabelEncoder()\n",
    "categorical_variables = ['team', 'opponent', 'venue', 'day', 'comp']\n",
    "for var in categorical_variables:\n",
    "    matches[var] = encoder.fit_transform(matches[var])\n",
    "\n",
    "# Creating time-based features\n",
    "matches['venue_code'] = matches['venue'].astype('category').cat.codes\n",
    "matches['opp_code'] = matches['opponent'].astype('category').cat.codes\n",
    "matches['hour'] = matches['time'].str.replace(\":.+\",\"\", regex=True).astype('int')\n",
    "matches['day_code'] = matches['date'].dt.dayofweek\n",
    "\n",
    "# Encoding the 'result' column\n",
    "matches['result'] = matches['result'].map({'W': 1, 'D': 0, 'L': -1})\n",
    "\n",
    "# Implementing rolling averages\n",
    "def rolling_averages(group, cols, new_cols):\n",
    "    group = group.sort_values('date')\n",
    "    rolling_stats = group[cols].rolling(3, closed='left').mean()\n",
    "    group[new_cols] = rolling_stats\n",
    "    return group.dropna(subset=new_cols)\n",
    "\n",
    "cols = ['gf', 'ga', 'sh', 'sot', 'dist', 'fk', 'pk', 'pkatt']\n",
    "new_cols = [f\"{c}_rolling\" for c in cols]\n",
    "matches_rolling = matches.groupby('team').apply(lambda x: rolling_averages(x, cols, new_cols)).droplevel('team')\n",
    "\n",
    "# Updating predictors with new features\n",
    "predictors = ['venue_code', 'opp_code', 'hour', 'day_code'] + new_cols\n",
    "\n",
    "# Creating and training the RandomForestClassifier model\n",
    "model = RandomForestClassifier(n_estimators=100, random_state=0)\n",
    "\n",
    "# Perform cross-validation\n",
    "cv_scores = cross_val_score(model, matches_rolling[predictors], matches_rolling['result'], cv=10)\n",
    "\n",
    "# Print the cross-validation scores\n",
    "print(\"Cross-validation scores:\", cv_scores)\n",
    "print(\"Mean cross-validation score:\", cv_scores.mean())\n",
    "\n",
    "# Optional: Train-test split and Confusion Matrix (if you want to visualize predictions)\n",
    "X_train, X_test, y_train, y_test = train_test_split(matches_rolling[predictors], matches_rolling['result'], test_size=0.3, random_state=0)\n",
    "model.fit(X_train, y_train)\n",
    "predictions = model.predict(X_test)\n",
    "cm = confusion_matrix(y_test, predictions)\n",
    "cm_labels = ['Lose', 'Draw', 'Win']\n",
    "\n",
    "# Plotting the confusion matrix as a heatmap\n",
    "plt.figure(figsize=(8, 6))\n",
    "sns.heatmap(cm, annot=True, fmt='d', xticklabels=cm_labels, yticklabels=cm_labels, cmap='Blues')\n",
    "plt.title('Confusion Matrix')\n",
    "plt.xlabel('Predicted')\n",
    "plt.ylabel('Actual')\n",
    "plt.show()"
   ]
  },
  {
   "cell_type": "code",
   "execution_count": null,
   "id": "06466ee8-3b8e-4514-84c8-29911bdd01cf",
   "metadata": {},
   "outputs": [],
   "source": []
  }
 ],
 "metadata": {
  "kernelspec": {
   "display_name": "Python 3",
   "language": "python",
   "name": "python3"
  },
  "language_info": {
   "codemirror_mode": {
    "name": "ipython",
    "version": 3
   },
   "file_extension": ".py",
   "mimetype": "text/x-python",
   "name": "python",
   "nbconvert_exporter": "python",
   "pygments_lexer": "ipython3",
   "version": "3.8.8"
  }
 },
 "nbformat": 4,
 "nbformat_minor": 5
}
